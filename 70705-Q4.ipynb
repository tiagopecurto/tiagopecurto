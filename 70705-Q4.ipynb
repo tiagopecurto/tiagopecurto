{
  "nbformat": 4,
  "nbformat_minor": 0,
  "metadata": {
    "colab": {
      "provenance": [],
      "include_colab_link": true
    },
    "kernelspec": {
      "name": "python3",
      "display_name": "Python 3"
    },
    "language_info": {
      "name": "python"
    }
  },
  "cells": [
    {
      "cell_type": "markdown",
      "metadata": {
        "id": "view-in-github",
        "colab_type": "text"
      },
      "source": [
        "<a href=\"https://colab.research.google.com/github/tiagopecurto/tiagopecurto/blob/main/70705-Q4.ipynb\" target=\"_parent\"><img src=\"https://colab.research.google.com/assets/colab-badge.svg\" alt=\"Open In Colab\"/></a>"
      ]
    },
    {
      "cell_type": "markdown",
      "metadata": {
        "id": "KgFZlT_g8O1Y"
      },
      "source": [
        "# Sistemas para Processamento de Big Data\n",
        "## TP1 - Energy Meter Monitoring\n"
      ]
    },
    {
      "cell_type": "markdown",
      "source": [
        "\n",
        "\n",
        "The sensor data corresponds to regular readings from 11 residential energy meters. The data covers the month of February 2024.\n",
        "\n",
        "Each data sample has the following schema:\n",
        "\n",
        "timestamp | sensor_id | energy\n",
        "----------|-------------|-----------\n",
        "timestamp | string  | float\n",
        "\n",
        "Each energy value (KWh) corresponds to the accumulated value of the meter at the time of measurement. As such,\n",
        "each meter is expected to produce a monotonically increasing series of pairs of timestamp and energy consummed up to that moment.\n",
        "\n",
        "The meters do not start at zero or at the same value.\n"
      ],
      "metadata": {
        "id": "IRDJq9dL0GWA"
      }
    },
    {
      "cell_type": "markdown",
      "source": [
        "## Questions\n",
        "\n",
        "The following questions should be answered for the month of February and only for this month.\n",
        "\n",
        "### For the group of sensors:\n",
        "\n",
        "1. Compute the total energy consumed.\n",
        "\n",
        "2. Compute the running total energy consumed so far for each day, inclusive.\n",
        "\n",
        "Note: You can approximate the result but using the last reading of each day from each sensor.\n",
        "\n",
        "### For each sensor, separately:\n",
        "\n",
        "3. Compute the total energy consumed and the average energy consumption per day.\n",
        "\n",
        "4. Compute the day of the month with minimum and maximum energy consumption.\n",
        "\n",
        "Note: You can approximate the result but using the last reading of each day from each sensor.\n",
        "\n",
        "### For each sensor, separately, with estimations:\n",
        "\n",
        "**Assumptions:**\n",
        "\n",
        "+ Readings may be missing for extended periods due to communication problems with the sensors.\n",
        "\n",
        "+ Readings are collected do not fall precisely \"on the hour\". The are collected and recorded any time.\n",
        "\n",
        "+ For more precise results, estimate the value of the meter at precise timestamp, using linear interpolation from nearest readings.\n",
        "\n",
        "5. Compute the **estimated** value of each sensor meter for every hour and day of the month (in ascending order).\n",
        "\n",
        "6. Compute the **estimated** running total of the energy consumed so far. The value should be updated every hour."
      ],
      "metadata": {
        "id": "HC6tMDOU7Fdb"
      }
    },
    {
      "cell_type": "markdown",
      "source": [
        "## Requeriments\n",
        "\n",
        "Solve each question using Structured Spark, either Dataframes or SQL or both."
      ],
      "metadata": {
        "id": "kdTj-7SD-67o"
      }
    },
    {
      "cell_type": "markdown",
      "source": [
        "## Other Grading Criteria\n",
        "\n",
        "+ Grading will also take into account the general clarity of the programming and of the presentation report (notebook).\n",
        "\n",
        "\n"
      ],
      "metadata": {
        "id": "qN2ogthr_EIH"
      }
    },
    {
      "cell_type": "markdown",
      "source": [
        "### Deadline\n",
        "+ November 10, 23h59\n",
        "\n",
        "For each day late, ***0.5 / day penalty***. Penalty accumulates until the grade of the assignment reaches 8.0."
      ],
      "metadata": {
        "id": "8M6lYfT_BpAO"
      }
    },
    {
      "cell_type": "markdown",
      "source": [
        "---\n",
        "### Colab Setup\n"
      ],
      "metadata": {
        "id": "81dR9BTgBg1s"
      }
    },
    {
      "cell_type": "code",
      "source": [
        "#@title Install PySpark\n",
        "!pip install pyspark findspark --quiet"
      ],
      "metadata": {
        "id": "L2O_3I3x1dbx",
        "colab": {
          "base_uri": "https://localhost:8080/"
        },
        "outputId": "619bf040-719b-4a0e-ed60-b925f43925e4"
      },
      "execution_count": null,
      "outputs": [
        {
          "output_type": "stream",
          "name": "stdout",
          "text": [
            "\u001b[2K     \u001b[90m━━━━━━━━━━━━━━━━━━━━━━━━━━━━━━━━━━━━━━━━\u001b[0m \u001b[32m317.3/317.3 MB\u001b[0m \u001b[31m4.1 MB/s\u001b[0m eta \u001b[36m0:00:00\u001b[0m\n",
            "\u001b[?25h  Preparing metadata (setup.py) ... \u001b[?25l\u001b[?25hdone\n",
            "  Building wheel for pyspark (setup.py) ... \u001b[?25l\u001b[?25hdone\n"
          ]
        }
      ]
    },
    {
      "cell_type": "code",
      "source": [
        "#@title Download the dataset\n",
        "\n",
        "!wget -q -O energy-readings.csv https://raw.githubusercontent.com/smduarte/spbd-2425/refs/heads/main/docs/labs/projs/energy-readings.csv\n",
        "!head -2 energy-readings.csv"
      ],
      "metadata": {
        "id": "jB8R09NjYJUW"
      },
      "execution_count": null,
      "outputs": []
    },
    {
      "cell_type": "code",
      "source": [
        "from pyspark.sql import *\n",
        "from pyspark.sql.types import *\n",
        "from pyspark.sql.functions import *\n",
        "\n",
        "spark = SparkSession.builder.master('local[*]') \\\n",
        "\t\t\t\t\t\t.appName('energy').getOrCreate()\n",
        "\n",
        "sc = spark.sparkContext\n",
        "\n",
        "try :\n",
        "    readings = spark.read.csv('energy-readings.csv', sep =';', header=True, inferSchema=True)\n",
        "\n",
        "    #0.Filtra os dados para manter apenas o mês de fevereiro de 2024\n",
        "    readings_february = readings.filter((month(\"date\") == 2) & (year(\"date\") == 2024))\n",
        "\n",
        "except Exception as err:\n",
        "    print(err)"
      ],
      "metadata": {
        "id": "zo41adHJYGs6"
      },
      "execution_count": null,
      "outputs": []
    },
    {
      "cell_type": "markdown",
      "source": [
        "**Question 4** - For each sensor separately, compute the day of the month with minimum and maximum energy consumption."
      ],
      "metadata": {
        "id": "VKU6Z3tgBxpA"
      }
    },
    {
      "cell_type": "code",
      "source": [
        "#2.1: Calcula o consumo diário de cada sensor\n",
        "daily_consumption_per_sensor = readings_february.withColumn(\"day\", to_date(\"date\")) \\\n",
        "  .groupBy(\"day\", \"sensor\") \\\n",
        "  .agg(round(max(\"energy\") - min(\"energy\"),3).alias(\"daily_consumption\")) \\\n",
        "  .orderBy(\"day\", \"sensor\")\n",
        "\n",
        "# 4.1 Calcula o valor mínimo e máximo de consumo diário para cada sensor\n",
        "min_consumption_day = daily_consumption_per_sensor.groupBy(\"sensor\") \\\n",
        "    .agg(min(\"daily_consumption\").alias(\"min_daily_consumption\"))\n",
        "\n",
        "max_consumption_day = daily_consumption_per_sensor.groupBy(\"sensor\") \\\n",
        "    .agg(max(\"daily_consumption\").alias(\"max_daily_consumption\"))\n",
        "\n",
        "# max_consumption_day.show()\n",
        "\n",
        "# 4.2 Filtra para encontrar o dia onde o consumo foi mínimo\n",
        "min_day = daily_consumption_per_sensor.alias(\"dcps\").join(\n",
        "    min_consumption_day.alias(\"min_day\"),\n",
        "    (col(\"dcps.sensor\") == col(\"min_day.sensor\")) &\n",
        "    (col(\"dcps.daily_consumption\") == col(\"min_day.min_daily_consumption\")),\"inner\"\n",
        ").select(\n",
        "    col(\"dcps.sensor\"),\n",
        "    col(\"dcps.day\").alias(\"min_consumption_day\"),\n",
        "    col(\"dcps.daily_consumption\").alias(\"min_daily_consumption\")\n",
        ").orderBy(\"sensor\")\n",
        "\n",
        "# 4.3 Filtra para encontrar o dia onde o consumo foi máximo\n",
        "max_day = daily_consumption_per_sensor.alias(\"dcps\").join(\n",
        "    max_consumption_day.alias(\"max_day\"),\n",
        "    (col(\"dcps.sensor\") == col(\"max_day.sensor\")) &\n",
        "    (col(\"dcps.daily_consumption\") == col(\"max_day.max_daily_consumption\")),\"inner\"\n",
        ").select(\n",
        "    col(\"dcps.sensor\"),\n",
        "    col(\"dcps.day\").alias(\"max_consumption_day\"),\n",
        "    col(\"dcps.daily_consumption\").alias(\"max_daily_consumption\")\n",
        ").orderBy(\"sensor\")\n",
        "\n",
        "# 4.4 Exibe os resultados\n",
        "min_day.show()\n",
        "max_day.show()"
      ],
      "metadata": {
        "colab": {
          "base_uri": "https://localhost:8080/"
        },
        "id": "jCwo_JnZB_Du",
        "outputId": "93ded69f-a9d3-4a9b-cb10-3b8c7508174f"
      },
      "execution_count": null,
      "outputs": [
        {
          "output_type": "stream",
          "name": "stdout",
          "text": [
            "+------+-------------------+---------------------+\n",
            "|sensor|min_consumption_day|min_daily_consumption|\n",
            "+------+-------------------+---------------------+\n",
            "|     A|         2024-02-24|                 0.77|\n",
            "|     B|         2024-02-09|                  0.1|\n",
            "|     C|         2024-02-02|                  1.6|\n",
            "|     C|         2024-02-23|                  1.6|\n",
            "|     D|         2024-02-16|                  5.7|\n",
            "|     E|         2024-02-23|                  4.7|\n",
            "|     F|         2024-02-18|                  0.8|\n",
            "|     G|         2024-02-09|                  0.7|\n",
            "|     H|         2024-02-26|                  2.1|\n",
            "|     I|         2024-02-18|                  0.5|\n",
            "|     J|         2024-02-18|                  1.7|\n",
            "|     K|         2024-02-16|                  1.2|\n",
            "+------+-------------------+---------------------+\n",
            "\n",
            "+------+-------------------+---------------------+\n",
            "|sensor|max_consumption_day|max_daily_consumption|\n",
            "+------+-------------------+---------------------+\n",
            "|     A|         2024-02-01|                  8.1|\n",
            "|     B|         2024-02-12|                  9.9|\n",
            "|     C|         2024-02-11|                 14.0|\n",
            "|     D|         2024-02-29|                 26.4|\n",
            "|     E|         2024-02-13|                 20.6|\n",
            "|     F|         2024-02-29|                12.87|\n",
            "|     G|         2024-02-10|                  9.3|\n",
            "|     H|         2024-02-28|                26.11|\n",
            "|     I|         2024-02-29|                20.66|\n",
            "|     J|         2024-02-11|                 10.0|\n",
            "|     K|         2024-02-11|                 10.2|\n",
            "+------+-------------------+---------------------+\n",
            "\n"
          ]
        }
      ]
    }
  ]
}