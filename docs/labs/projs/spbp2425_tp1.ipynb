{
  "nbformat": 4,
  "nbformat_minor": 0,
  "metadata": {
    "colab": {
      "provenance": [],
      "include_colab_link": true
    },
    "kernelspec": {
      "name": "python3",
      "display_name": "Python 3"
    },
    "language_info": {
      "name": "python"
    }
  },
  "cells": [
    {
      "cell_type": "markdown",
      "metadata": {
        "id": "view-in-github",
        "colab_type": "text"
      },
      "source": [
        "<a href=\"https://colab.research.google.com/github/tiagopecurto/tiagopecurto/blob/main/docs/labs/projs/spbp2425_tp1.ipynb\" target=\"_parent\"><img src=\"https://colab.research.google.com/assets/colab-badge.svg\" alt=\"Open In Colab\"/></a>"
      ]
    },
    {
      "cell_type": "markdown",
      "metadata": {
        "id": "KgFZlT_g8O1Y"
      },
      "source": [
        "# Sistemas para Processamento de Big Data\n",
        "## TP1 - Energy Meter Monitoring\n"
      ]
    },
    {
      "cell_type": "markdown",
      "source": [
        "\n",
        "\n",
        "The sensor data corresponds to regular readings from 11 residential energy meters. The data covers the month of February 2024.\n",
        "\n",
        "Each data sample has the following schema:\n",
        "\n",
        "timestamp | sensor_id | energy\n",
        "----------|-------------|-----------\n",
        "timestamp | string  | float\n",
        "\n",
        "Each energy value (KWh) corresponds to the accumulated value of the meter at the time of measurement. As such,\n",
        "each meter is expected to produce a monotonically increasing series of pairs of timestamp and energy consummed up to that moment.\n",
        "\n",
        "The meters do not start at zero or at the same value.\n"
      ],
      "metadata": {
        "id": "IRDJq9dL0GWA"
      }
    },
    {
      "cell_type": "markdown",
      "source": [
        "## Questions\n",
        "\n",
        "The following questions should be answered for the month of February and only for this month.\n",
        "\n",
        "### For the group of sensors:\n",
        "\n",
        "1. Compute the total energy consumed.\n",
        "\n",
        "2. Compute the running total energy consumed so far for each day, inclusive.\n",
        "\n",
        "Note: You can approximate the result but using the last reading of each day from each sensor.\n",
        "\n",
        "### For each sensor, separately:\n",
        "\n",
        "3. Compute the total energy consumed and the average energy consumption per day.\n",
        "\n",
        "4. Compute the day of the month with minimum and maximum energy consumption.\n",
        "\n",
        "Note: You can approximate the result but using the last reading of each day from each sensor.\n",
        "\n",
        "### For each sensor, separately, with estimations:\n",
        "\n",
        "**Assumptions:**\n",
        "\n",
        "+ Readings may be missing for extended periods due to communication problems with the sensors.\n",
        "\n",
        "+ Readings are collected do not fall precisely \"on the hour\". The are collected and recorded any time.\n",
        "\n",
        "+ For more precise results, estimate the value of the meter at precise timestamp, using linear interpolation from nearest readings.\n",
        "\n",
        "5. Compute the **estimated** value of each sensor meter for every hour and day of the month (in ascending order).\n",
        "\n",
        "6. Compute the **estimated** running total of the energy consumed so far. The value should be updated every hour."
      ],
      "metadata": {
        "id": "HC6tMDOU7Fdb"
      }
    },
    {
      "cell_type": "markdown",
      "source": [
        "## Requeriments\n",
        "\n",
        "Solve each question using Structured Spark, either Dataframes or SQL or both."
      ],
      "metadata": {
        "id": "kdTj-7SD-67o"
      }
    },
    {
      "cell_type": "markdown",
      "source": [
        "## Other Grading Criteria\n",
        "\n",
        "+ Grading will also take into account the general clarity of the programming and of the presentation report (notebook).\n",
        "\n",
        "\n"
      ],
      "metadata": {
        "id": "qN2ogthr_EIH"
      }
    },
    {
      "cell_type": "markdown",
      "source": [
        "### Deadline\n",
        "+ November 10, 23h59\n",
        "\n",
        "For each day late, ***0.5 / day penalty***. Penalty accumulates until the grade of the assignment reaches 8.0."
      ],
      "metadata": {
        "id": "8M6lYfT_BpAO"
      }
    },
    {
      "cell_type": "markdown",
      "source": [
        "---\n",
        "### Colab Setup\n"
      ],
      "metadata": {
        "id": "81dR9BTgBg1s"
      }
    },
    {
      "cell_type": "code",
      "source": [
        "#@title Install PySpark\n",
        "!pip install pyspark findspark --quiet"
      ],
      "metadata": {
        "id": "L2O_3I3x1dbx",
        "colab": {
          "base_uri": "https://localhost:8080/"
        },
        "outputId": "619bf040-719b-4a0e-ed60-b925f43925e4"
      },
      "execution_count": null,
      "outputs": [
        {
          "output_type": "stream",
          "name": "stdout",
          "text": [
            "\u001b[2K     \u001b[90m━━━━━━━━━━━━━━━━━━━━━━━━━━━━━━━━━━━━━━━━\u001b[0m \u001b[32m317.3/317.3 MB\u001b[0m \u001b[31m4.1 MB/s\u001b[0m eta \u001b[36m0:00:00\u001b[0m\n",
            "\u001b[?25h  Preparing metadata (setup.py) ... \u001b[?25l\u001b[?25hdone\n",
            "  Building wheel for pyspark (setup.py) ... \u001b[?25l\u001b[?25hdone\n"
          ]
        }
      ]
    },
    {
      "cell_type": "code",
      "source": [
        "#@title Download the dataset\n",
        "\n",
        "!wget -q -O energy-readings.csv https://raw.githubusercontent.com/smduarte/spbd-2425/refs/heads/main/docs/labs/projs/energy-readings.csv\n",
        "!head -2 energy-readings.csv"
      ],
      "metadata": {
        "colab": {
          "base_uri": "https://localhost:8080/"
        },
        "id": "jB8R09NjYJUW",
        "outputId": "03f27494-f571-488b-ac15-87822643e9cf"
      },
      "execution_count": 2,
      "outputs": [
        {
          "output_type": "stream",
          "name": "stdout",
          "text": [
            "date;sensor;energy\n",
            "2024-02-01 00:00:00;D;2615.0\n"
          ]
        }
      ]
    },
    {
      "cell_type": "code",
      "source": [
        "from pyspark.sql import *\n",
        "from pyspark.sql.types import *\n",
        "from pyspark.sql.functions import *\n",
        "\n",
        "spark = SparkSession.builder.master('local[*]') \\\n",
        "\t\t\t\t\t\t.appName('energy').getOrCreate()\n",
        "\n",
        "sc = spark.sparkContext\n",
        "try :\n",
        "    readings = spark.read.csv('energy-readings.csv',\n",
        "                             sep =';', header=True, inferSchema=True)\n",
        "\n",
        "    readings.printSchema()\n",
        "\n",
        "    #0.Filtra os dados para manter apenas o mês de fevereiro de 2024\n",
        "    readings_february = readings.filter((month(\"date\") == 2) & (year(\"date\") == 2024))\n",
        "      #readings_february.show()\n",
        "\n",
        "    #1.Total energy consumed in February\n",
        "    total_energy_consumed = readings_february.groupBy(\"sensor\") \\\n",
        "      .agg((max(\"energy\")-min(\"energy\")).alias(\"energy_consumed_per_sensor\")) \\\n",
        "      .agg(sum(\"energy_consumed_per_sensor\").alias(\"total_energy_consumed\"))\n",
        "      #total_energy_consumed.show()\n",
        "\n",
        "    #2.Total energy consumed by day in February\n",
        "    #2.1: Calcula o consumo diário de cada sensor\n",
        "    daily_consumption_per_sensor = readings_february.withColumn(\"day\", to_date(\"date\")) \\\n",
        "      .groupBy(\"day\", \"sensor\") \\\n",
        "      .agg(round((max(\"energy\") - min(\"energy\"))).alias(\"daily_consumption\")) \\\n",
        "      .orderBy(\"day\", \"sensor\")\n",
        "    daily_consumption_per_sensor.show()\n",
        "\n",
        "    #2.2: Soma o consumo diário para todos os sensores por dia\n",
        "    total_daily_consumption = daily_consumption_per_sensor.groupBy(\"day\") \\\n",
        "      .agg(sum(\"daily_consumption\").alias(\"total_daily_consumption\")) \\\n",
        "      .orderBy(\"day\")\n",
        "    #total_daily_consumption.show()\n",
        "\n",
        "    #3.Compute the total energy consumed and the average energy consumption per day\n",
        "        #Note: utilizou-se a variável de 2.1\n",
        "        #Note2: a função avg() apenas faz a média com o dias em que houve consumos. é necessário dividir pelos 29 dias\n",
        "    total_and_average_consumption = daily_consumption_per_sensor.groupBy(\"sensor\") \\\n",
        "      .agg(round(sum(\"daily_consumption\")).alias(\"total_energy_consumed\"),\n",
        "         (round(sum(\"daily_consumption\")/lit(29))).alias(\"average_daily_consumption\"))\\\n",
        "      .orderBy(\"sensor\")\n",
        "    #total_and_average_consumption.show()\n",
        "\n",
        "    #4.Compute the day of the month with minimum and maximum energy consumption\n",
        "    min_consumption_day = daily_consumption_per_sensor.groupBy(\"sensor\") \\\n",
        "    .agg(min(\"daily_consumption\").alias(\"min_daily_consumption\"))\n",
        "    min_consumption_day.show()\n",
        "    \"\"\"\n",
        "    min_day = daily_consumption_per_sensor.join(min_consumption_day(daily_consumption_per_sensor[\"sensor\"] == min_consumption_day[\"sensor\"]) &\n",
        "    (daily_consumption_per_sensor[\"daily_consumption\"] == min_consumption_day[\"min_daily_consumption\"]),\"inner\") \\\n",
        "    .select(daily_consumption_per_sensor[\"sensor\"], col(\"day\").alias(\"min_consumption_day\"))\n",
        "     \"\"\"\n",
        "\n",
        "\n",
        "\n",
        "    #readings.show(5)\n",
        "except Exception as err:\n",
        "    print(err)"
      ],
      "metadata": {
        "colab": {
          "base_uri": "https://localhost:8080/"
        },
        "id": "zo41adHJYGs6",
        "outputId": "7691218e-3c28-41d1-8b53-4087f4d260aa"
      },
      "execution_count": 37,
      "outputs": [
        {
          "output_type": "stream",
          "name": "stdout",
          "text": [
            "root\n",
            " |-- date: timestamp (nullable = true)\n",
            " |-- sensor: string (nullable = true)\n",
            " |-- energy: double (nullable = true)\n",
            "\n",
            "+----------+------+-----------------+\n",
            "|       day|sensor|daily_consumption|\n",
            "+----------+------+-----------------+\n",
            "|2024-02-01|     A|              8.0|\n",
            "|2024-02-01|     B|              4.0|\n",
            "|2024-02-01|     C|             10.0|\n",
            "|2024-02-01|     D|             13.0|\n",
            "|2024-02-01|     E|             16.0|\n",
            "|2024-02-01|     F|             11.0|\n",
            "|2024-02-01|     G|              3.0|\n",
            "|2024-02-01|     H|             24.0|\n",
            "|2024-02-01|     I|             20.0|\n",
            "|2024-02-01|     J|              3.0|\n",
            "|2024-02-01|     K|              8.0|\n",
            "|2024-02-02|     A|              5.0|\n",
            "|2024-02-02|     B|              5.0|\n",
            "|2024-02-02|     C|              2.0|\n",
            "|2024-02-02|     D|              6.0|\n",
            "|2024-02-02|     E|             10.0|\n",
            "|2024-02-02|     F|              7.0|\n",
            "|2024-02-02|     G|              4.0|\n",
            "|2024-02-02|     H|              6.0|\n",
            "|2024-02-02|     I|             13.0|\n",
            "+----------+------+-----------------+\n",
            "only showing top 20 rows\n",
            "\n",
            "+------+---------------------+\n",
            "|sensor|min_daily_consumption|\n",
            "+------+---------------------+\n",
            "|     K|                  1.0|\n",
            "|     F|                  1.0|\n",
            "|     E|                  5.0|\n",
            "|     B|                  0.0|\n",
            "|     D|                  6.0|\n",
            "|     C|                  2.0|\n",
            "|     J|                  2.0|\n",
            "|     A|                  1.0|\n",
            "|     G|                  1.0|\n",
            "|     I|                  1.0|\n",
            "|     H|                  2.0|\n",
            "+------+---------------------+\n",
            "\n",
            "[AMBIGUOUS_REFERENCE] Reference `sensor` is ambiguous, could be: [`sensor`, `sensor`].\n"
          ]
        }
      ]
    },
    {
      "cell_type": "code",
      "source": [],
      "metadata": {
        "id": "6wBqWg9cgVE7"
      },
      "execution_count": null,
      "outputs": []
    }
  ]
}