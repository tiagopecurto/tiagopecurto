{
  "nbformat": 4,
  "nbformat_minor": 0,
  "metadata": {
    "colab": {
      "provenance": [],
      "include_colab_link": true
    },
    "kernelspec": {
      "name": "python3",
      "display_name": "Python 3"
    },
    "language_info": {
      "name": "python"
    }
  },
  "cells": [
    {
      "cell_type": "markdown",
      "metadata": {
        "id": "view-in-github",
        "colab_type": "text"
      },
      "source": [
        "<a href=\"https://colab.research.google.com/github/tiagopecurto/tiagopecurto/blob/main/TP2-Q3-70705.ipynb\" target=\"_parent\"><img src=\"https://colab.research.google.com/assets/colab-badge.svg\" alt=\"Open In Colab\"/></a>"
      ]
    },
    {
      "cell_type": "markdown",
      "metadata": {
        "id": "KgFZlT_g8O1Y"
      },
      "source": [
        "# Sistemas para Processamento de Big Data\n",
        "## TP2 - Energy Meter Live Monitoring\n"
      ]
    },
    {
      "cell_type": "markdown",
      "source": [
        "The sensor data corresponds to regular readings from 11 residential energy meters. The data covers the month of February 2024.\n",
        "\n",
        "Each data sample has the following schema:\n",
        "\n",
        "timestamp | sensor_id | energy\n",
        "----------|-------------|-----------\n",
        "timestamp | string  | float\n",
        "\n",
        "Each energy value (KWh) corresponds to the accumulated value of the meter at the time of measurement. As such,\n",
        "each meter is expected to produce a monotonically increasing series of pairs of timestamp and energy consummed up to that moment.\n",
        "\n",
        "The meters do not start at zero or at the same value.\n"
      ],
      "metadata": {
        "id": "IRDJq9dL0GWA"
      }
    },
    {
      "cell_type": "markdown",
      "source": [
        "## Questions\n",
        "\n",
        "For all the sensors combined:\n",
        "\n",
        "1. For the current month and current day, compute the running total energy consumed so far. The values should be updated every 5 minutes.\n",
        "\n",
        "2. For the current month and current day, compute the running total energy consumed so far, **as a percentage**, **compared to the same periods in February 2024**. The values should be updated every 5 minutes.\n",
        "\n",
        "For each sensor, separately:\n",
        "\n",
        "3. For the current month and current day, compute the running total energy consumed so far, as a percentage, **comparing the value of each individual sensor, relative to the same results for all the sensors together (as in #1)**. The values should be updated every 5 minutes. (Sorted in descending order by value and sensor.)\n",
        "\n",
        "**Note:** For simplicity, it is fine to assume the first reading of each day can be used to start counting how much energy has been consumed so far. There is no need to interpolate/estimate the value of the meters at midnight.\n",
        "\n",
        "\n"
      ],
      "metadata": {
        "id": "HC6tMDOU7Fdb"
      }
    },
    {
      "cell_type": "markdown",
      "source": [
        "## Requeriments\n",
        "\n",
        "Solve each question using Structured Spark Streaming."
      ],
      "metadata": {
        "id": "kdTj-7SD-67o"
      }
    },
    {
      "cell_type": "markdown",
      "source": [
        "## Other Grading Criteria\n",
        "\n",
        "+ Grading will also take into account the general clarity of the programming and of the presentation report (notebook).\n",
        "\n",
        "\n"
      ],
      "metadata": {
        "id": "qN2ogthr_EIH"
      }
    },
    {
      "cell_type": "markdown",
      "source": [
        "### Deadline\n",
        "\n",
        "December 6.\n",
        "\n",
        "Penalty of 0.25 grade points per day late.\n",
        "\n",
        "Penalty accumulates until the grade of the assignment reaches 8.0."
      ],
      "metadata": {
        "id": "8M6lYfT_BpAO"
      }
    },
    {
      "cell_type": "markdown",
      "source": [
        "---\n",
        "### Colab Setup\n"
      ],
      "metadata": {
        "id": "81dR9BTgBg1s"
      }
    },
    {
      "cell_type": "code",
      "source": [
        "#@title Install PySpark\n",
        "!pip install pyspark --quiet"
      ],
      "metadata": {
        "id": "L2O_3I3x1dbx"
      },
      "execution_count": null,
      "outputs": []
    },
    {
      "cell_type": "code",
      "source": [
        "#@title Download Archived February Energy Readings\n",
        "!wget -q -O /tmp/readings.csv https://raw.githubusercontent.com/smduarte/spbd-2425/refs/heads/main/docs/labs/projs/energy-readings.csv\n",
        "!grep \"2024-02\" /tmp/readings.csv > february-energy-readings.csv\n",
        "!head -2 february-energy-readings.csv\n"
      ],
      "metadata": {
        "id": "w38DVs9wBhhu",
        "colab": {
          "base_uri": "https://localhost:8080/"
        },
        "outputId": "d9718148-d41d-40c2-91c5-bcbe90a64931"
      },
      "execution_count": null,
      "outputs": [
        {
          "output_type": "stream",
          "name": "stdout",
          "text": [
            "2024-02-01 00:00:00;D;2615.0\n",
            "2024-02-01 00:00:18;C;1098.8\n"
          ]
        }
      ]
    },
    {
      "cell_type": "code",
      "source": [
        "#@title Start the Structured Source\n",
        "!wget -q -O - https://github.com/smduarte/spbd-2425/raw/main/scripts/json_energy_sender.tgz  | tar xfz - 2> /dev/null\n",
        "\n",
        "!nohup python json_energy_sender/server.py --filename json_energy_sender/energy-readings.csv --speedup 60 > /dev/null 2> /dev/null &"
      ],
      "metadata": {
        "id": "n4fbaIE0vedz"
      },
      "execution_count": null,
      "outputs": []
    },
    {
      "cell_type": "markdown",
      "source": [
        "\n",
        "Note: --speedup 60, means the stream is played 60x faster than realtime. Therefore, 1 second in real time corresponds to 1 minute of stream data.\n"
      ],
      "metadata": {
        "id": "otl4V60lElrg"
      }
    },
    {
      "cell_type": "code",
      "source": [
        "from pyspark.sql import *\n",
        "from pyspark.sql.functions import *\n",
        "\n",
        "spark = SparkSession \\\n",
        "    .builder \\\n",
        "    .appName(\"EnergyComparisonPerSensor\") \\\n",
        "    .getOrCreate()\n",
        "\n",
        "# Esquema do JSON no stream\n",
        "sample_json = '{\"date\": \"2024-02-01 00:00:00\", \"sensor\": \"D\", \"energy\": 2615.0}'\n",
        "inferred_schema = schema_of_json(sample_json)\n",
        "\n",
        "try:\n",
        "    # Ler o stream\n",
        "    json_lines = spark.readStream.format(\"socket\") \\\n",
        "        .option(\"host\", \"localhost\") \\\n",
        "        .option(\"port\", 7777) \\\n",
        "        .load()\n",
        "\n",
        "    # Parsear o JSON\n",
        "    json_lines = json_lines.withColumn(\"json_data\", from_json(col(\"value\"), inferred_schema)) \\\n",
        "        .select(\"json_data.*\")\n",
        "\n",
        "    # Preparar os dados do stream\n",
        "    json_lines = json_lines.withColumn(\"date\", to_timestamp(col(\"date\"))).withWatermark(\"date\", \"3 minutes\")\n",
        "\n",
        "    # Calcular o total acumulado por sensor\n",
        "    sensor_totals = json_lines \\\n",
        "        .groupBy(window(\"date\", \"5 minutes\"), \"sensor\") \\\n",
        "        .agg(max(\"energy\").alias(\"sensor_total_energy\"))\n",
        "\n",
        "    # Calcular o total global (da Questão 1)\n",
        "    total_energy_per_window = sensor_totals \\\n",
        "        .groupBy(\"window\") \\\n",
        "        .agg(sum(\"sensor_total_energy\").alias(\"global_total_energy\"))\n",
        "\n",
        "    # Juntar os totais por sensor com o total global\n",
        "    comparison = sensor_totals \\\n",
        "        .join(total_energy_per_window, \"window\", \"left\") \\\n",
        "        .withColumn(\"percentage\",\n",
        "                    when(col(\"global_total_energy\").isNotNull(),\n",
        "                         (col(\"sensor_total_energy\") / col(\"global_total_energy\")) * 100).otherwise(None)) \\\n",
        "\n",
        "    # Escrever o resultado para a consola\n",
        "    query = comparison \\\n",
        "        .writeStream \\\n",
        "        .outputMode(\"append\") \\\n",
        "        .format(\"console\") \\\n",
        "        .option(\"truncate\", False) \\\n",
        "        .start()\n",
        "\n",
        "    query.awaitTermination(300)\n",
        "\n",
        "except Exception as err:\n",
        "    print(err)\n",
        "    query.stop()"
      ],
      "metadata": {
        "id": "5pzi95IkvgEZ"
      },
      "execution_count": null,
      "outputs": []
    },
    {
      "cell_type": "code",
      "source": [],
      "metadata": {
        "id": "u_AWtJPqE5rA"
      },
      "execution_count": null,
      "outputs": []
    }
  ]
}